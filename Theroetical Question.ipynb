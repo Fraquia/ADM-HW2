{
 "cells": [
  {
   "cell_type": "code",
   "execution_count": 2,
   "metadata": {},
   "outputs": [
    {
     "data": {
      "image/jpeg": "[encoded data removed]",
      "text/plain": [
       "<IPython.core.display.Image object>"
      ]
     },
     "execution_count": 2,
     "metadata": {},
     "output_type": "execute_result"
    }
   ],
   "source": [
    "from IPython.display import Image\n",
    "Image(filename='Algorithm.jpg')"
   ]
  },
  {
   "cell_type": "markdown",
   "metadata": {},
   "source": [
    "We use Master Theorem to calculate the running time of this algorithm:\n",
    "\n",
    "T(n) = 2 * T(n/2) * O(n/2)\n",
    "\n",
    "now we see differences between subproblems running time and main probem's running time:\n",
    "\n",
    "n^(log2(2)) = n\n",
    "\n",
    "n = n/2 asintotically \n",
    "\n",
    "so: \n",
    "\n",
    "T(n) = n * log(n)  "
   ]
  },
  {
   "cell_type": "code",
   "execution_count": 114,
   "metadata": {},
   "outputs": [
    {
     "name": "stdout",
     "output_type": "stream",
     "text": [
      "['2', '1', '3', '4', '5', '6', '7', '8', '9', '10', '11', '12', '13', '14', '15', '16', '17', '18', '19', '20']\n",
      "['2', '1', '4', '3', '5', '6', '7', '8', '9', '10', '11', '12', '13', '14', '15', '16', '17', '18', '19', '20']\n",
      "['4', '3', '2', '1', '5', '6', '7', '8', '9', '10', '11', '12', '13', '14', '15', '16', '17', '18', '19', '20']\n",
      "['4', '3', '2', '1', '5', '7', '6', '8', '9', '10', '11', '12', '13', '14', '15', '16', '17', '18', '19', '20']\n",
      "['4', '3', '2', '1', '5', '7', '6', '9', '8', '10', '11', '12', '13', '14', '15', '16', '17', '18', '19', '20']\n",
      "['4', '3', '2', '1', '5', '9', '8', '7', '6', '10', '11', '12', '13', '14', '15', '16', '17', '18', '19', '20']\n",
      "['9', '8', '7', '6', '10', '4', '3', '2', '1', '5', '11', '12', '13', '14', '15', '16', '17', '18', '19', '20']\n",
      "['9', '8', '7', '6', '10', '4', '3', '2', '1', '5', '12', '11', '13', '14', '15', '16', '17', '18', '19', '20']\n",
      "['9', '8', '7', '6', '10', '4', '3', '2', '1', '5', '12', '11', '14', '13', '15', '16', '17', '18', '19', '20']\n",
      "['9', '8', '7', '6', '10', '4', '3', '2', '1', '5', '14', '13', '12', '11', '15', '16', '17', '18', '19', '20']\n",
      "['9', '8', '7', '6', '10', '4', '3', '2', '1', '5', '14', '13', '12', '11', '15', '17', '16', '18', '19', '20']\n",
      "['9', '8', '7', '6', '10', '4', '3', '2', '1', '5', '14', '13', '12', '11', '15', '17', '16', '19', '18', '20']\n",
      "['9', '8', '7', '6', '10', '4', '3', '2', '1', '5', '14', '13', '12', '11', '15', '19', '18', '17', '16', '20']\n",
      "['9', '8', '7', '6', '10', '4', '3', '2', '1', '5', '19', '18', '17', '16', '20', '14', '13', '12', '11', '15']\n",
      "['19', '18', '17', '16', '20', '14', '13', '12', '11', '15', '9', '8', '7', '6', '10', '4', '3', '2', '1', '5']\n",
      "\n",
      "\n",
      "['1', '2', '4', '3', '5', '6', '7', '8', '9', '10', '11', '12', '13', '14', '15', '16', '17', '18', '19', '20']\n",
      "['1', '2', '4', '3', '6', '5', '7', '8', '9', '10', '11', '12', '13', '14', '15', '16', '17', '18', '19', '20']\n",
      "['1', '2', '6', '5', '4', '3', '7', '8', '9', '10', '11', '12', '13', '14', '15', '16', '17', '18', '19', '20']\n",
      "['1', '2', '6', '5', '4', '3', '8', '7', '9', '10', '11', '12', '13', '14', '15', '16', '17', '18', '19', '20']\n",
      "['1', '2', '6', '5', '4', '3', '8', '7', '10', '9', '11', '12', '13', '14', '15', '16', '17', '18', '19', '20']\n",
      "['1', '2', '6', '5', '4', '3', '10', '9', '8', '7', '11', '12', '13', '14', '15', '16', '17', '18', '19', '20']\n",
      "['1', '2', '10', '9', '8', '7', '6', '5', '4', '3', '11', '12', '13', '14', '15', '16', '17', '18', '19', '20']\n",
      "['1', '2', '10', '9', '8', '7', '6', '5', '4', '3', '11', '13', '12', '14', '15', '16', '17', '18', '19', '20']\n",
      "['1', '2', '10', '9', '8', '7', '6', '5', '4', '3', '11', '13', '12', '15', '14', '16', '17', '18', '19', '20']\n",
      "['1', '2', '10', '9', '8', '7', '6', '5', '4', '3', '11', '15', '14', '13', '12', '16', '17', '18', '19', '20']\n",
      "['1', '2', '10', '9', '8', '7', '6', '5', '4', '3', '11', '15', '14', '13', '12', '17', '16', '18', '19', '20']\n",
      "['1', '2', '10', '9', '8', '7', '6', '5', '4', '3', '11', '15', '14', '13', '12', '17', '16', '19', '18', '20']\n",
      "['1', '2', '10', '9', '8', '7', '6', '5', '4', '3', '11', '15', '14', '13', '12', '19', '18', '17', '16', '20']\n",
      "['1', '2', '10', '9', '8', '7', '6', '5', '4', '3', '11', '19', '18', '17', '16', '15', '14', '13', '12', '20']\n",
      "['1', '2', '19', '18', '17', '16', '15', '14', '13', '12', '20', '10', '9', '8', '7', '6', '5', '4', '3', '11']\n",
      "\n",
      "\n",
      "['2', '1', '3', '4', '5', '6', '7', '8', '9', '10', '11', '12', '13', '14', '15', '16', '17', '18', '19', '20']\n",
      "['2', '1', '3', '5', '4', '6', '7', '8', '9', '10', '11', '12', '13', '14', '15', '16', '17', '18', '19', '20']\n",
      "['5', '4', '6', '2', '1', '3', '7', '8', '9', '10', '11', '12', '13', '14', '15', '16', '17', '18', '19', '20']\n",
      "\n",
      "\n",
      "['2', '1', '3', '4', '5', '6', '7', '8']\n",
      "['2', '1', '4', '3', '5', '6', '7', '8']\n",
      "['4', '3', '2', '1', '5', '6', '7', '8']\n",
      "['4', '3', '2', '1', '6', '5', '7', '8']\n",
      "['4', '3', '2', '1', '6', '5', '8', '7']\n",
      "['4', '3', '2', '1', '8', '7', '6', '5']\n",
      "['8', '7', '6', '5', '4', '3', '2', '1']\n"
     ]
    }
   ],
   "source": [
    "def swapList(a, l, n):\n",
    "    for i in range(int(n//2)):\n",
    "        tmp = a[l + i]\n",
    "        a[l + i] = a[l + int(n//2) + i]\n",
    "        a[l + int(n//2) + i] = tmp\n",
    "    print(a)\n",
    "    \n",
    "def splitSwap(a, l, n):\n",
    "    if n <= 1:\n",
    "        return\n",
    "    splitSwap(a, l, n//2)\n",
    "    splitSwap(a, l +(n//2), n//2)\n",
    "    swapList(a, l, n)\n",
    "\n",
    "A = ['1','2','3','4','5','6','7','8','9','10','11','12','13','14','15','16','17','18','19','20']\n",
    "L = 0 #index\n",
    "N = 20 #lenght\n",
    "\n",
    "splitSwap(A, L, N)\n",
    "print('\\n')\n",
    "\n",
    "A = ['1','2','3','4','5','6','7','8','9','10','11','12','13','14','15','16','17','18','19','20']\n",
    "L = 2 #index\n",
    "N = 18 #lenght\n",
    "\n",
    "splitSwap(A, L, N)\n",
    "print('\\n')\n",
    "\n",
    "A = ['1','2','3','4','5','6','7','8','9','10','11','12','13','14','15','16','17','18','19','20']\n",
    "L = 0 #index\n",
    "N = 6 #lenght\n",
    "\n",
    "splitSwap(A, L, N)\n",
    "print('\\n')\n",
    "\n",
    "A = ['1','2','3','4','5','6','7','8']\n",
    "L = 0 #index\n",
    "N = 8 #lenght\n",
    "\n",
    "splitSwap(A, L, N)"
   ]
  },
  {
   "cell_type": "code",
   "execution_count": 110,
   "metadata": {},
   "outputs": [
    {
     "data": {
      "text/plain": [
       "5"
      ]
     },
     "execution_count": 110,
     "metadata": {},
     "output_type": "execute_result"
    }
   ],
   "source": [
    "10//2"
   ]
  },
  {
   "cell_type": "markdown",
   "metadata": {},
   "source": [
    "we explode the splitSwap function, we can imagine the execution of the main iterative function\n",
    "as an binary tree, when we rach the leaf (deepest node) we call the second iterative funcion swapList.\n",
    "swapList start to rise the tree, doing left-node son, right-node son and then their father-node, in bottom up modality,\n",
    "from the father node i continue from him to his father .\n",
    "Indeed if we don't consider the array in pieces, but the entire array we can reach a running time that coulbd be in order of n.\n",
    "\n",
    "\n",
    "\n",
    "\n",
    "-\n",
    "\n",
    "\n"
   ]
  },
  {
   "cell_type": "code",
   "execution_count": null,
   "metadata": {},
   "outputs": [],
   "source": []
  }
 ],
 "metadata": {
  "kernelspec": {
   "display_name": "Python 3",
   "language": "python",
   "name": "python3"
  },
  "language_info": {
   "codemirror_mode": {
    "name": "ipython",
    "version": 3
   },
   "file_extension": ".py",
   "mimetype": "text/x-python",
   "name": "python",
   "nbconvert_exporter": "python",
   "pygments_lexer": "ipython3",
   "version": "3.7.4"
  }
 },
 "nbformat": 4,
 "nbformat_minor": 2
}
